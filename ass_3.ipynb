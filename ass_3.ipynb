{
  "cells": [
    {
      "cell_type": "code",
      "execution_count": 1,
      "id": "4b75b1ac",
      "metadata": {
        "id": "4b75b1ac"
      },
      "outputs": [],
      "source": [
        "import tensorflow as tf\n",
        "from keras.models import Sequential\n",
        "from keras.layers import Dense,Conv2D,Dropout,Flatten,MaxPooling2D\n",
        "import matplotlib.pyplot as plt\n",
        "import numpy as np\n"
      ]
    },
    {
      "cell_type": "code",
      "execution_count": 2,
      "id": "d493e891",
      "metadata": {
        "colab": {
          "base_uri": "https://localhost:8080/"
        },
        "id": "d493e891",
        "outputId": "73cfe28a-8134-4494-e2ec-45f3dc0aca56"
      },
      "outputs": [
        {
          "output_type": "stream",
          "name": "stdout",
          "text": [
            "Downloading data from https://storage.googleapis.com/tensorflow/tf-keras-datasets/mnist.npz\n",
            "11490434/11490434 [==============================] - 0s 0us/step\n"
          ]
        }
      ],
      "source": [
        "mnist=tf.keras.datasets.mnist\n",
        "(x_train,y_train),(x_test,y_test)=mnist.load_data()\n",
        "input_shape=(28,28,1)"
      ]
    },
    {
      "cell_type": "code",
      "execution_count": 3,
      "id": "69286911",
      "metadata": {
        "id": "69286911"
      },
      "outputs": [],
      "source": [
        "x_train=x_train.reshape(x_train.shape[0],28,28,1)\n",
        "x_test=x_test.reshape(x_test.shape[0],28,28,1)"
      ]
    },
    {
      "cell_type": "code",
      "execution_count": 4,
      "id": "15a8bbd8",
      "metadata": {
        "id": "15a8bbd8"
      },
      "outputs": [],
      "source": [
        "x_train=x_train.astype('float32')\n",
        "x_test=x_test.astype('float32')"
      ]
    },
    {
      "cell_type": "code",
      "execution_count": 5,
      "id": "42ea8271",
      "metadata": {
        "colab": {
          "base_uri": "https://localhost:8080/"
        },
        "id": "42ea8271",
        "outputId": "189a7b6e-d6fd-4cd6-ed4d-5559cc9c3d1a"
      },
      "outputs": [
        {
          "output_type": "stream",
          "name": "stdout",
          "text": [
            "shape of Training: (60000, 28, 28, 1)\n",
            "shape of Training: (10000, 28, 28, 1)\n"
          ]
        }
      ],
      "source": [
        "x_train=x_train/255\n",
        "x_test=x_test/255\n",
        "print(\"shape of Training:\",x_train.shape)\n",
        "print(\"shape of Training:\",x_test.shape)"
      ]
    },
    {
      "cell_type": "code",
      "execution_count": 6,
      "id": "e8cf8234",
      "metadata": {
        "colab": {
          "base_uri": "https://localhost:8080/"
        },
        "id": "e8cf8234",
        "outputId": "a6b1f5d6-1e1e-48e8-daeb-8bcffaa8653d"
      },
      "outputs": [
        {
          "output_type": "stream",
          "name": "stdout",
          "text": [
            "Model: \"sequential\"\n",
            "_________________________________________________________________\n",
            " Layer (type)                Output Shape              Param #   \n",
            "=================================================================\n",
            " conv2d (Conv2D)             (None, 26, 26, 28)        280       \n",
            "                                                                 \n",
            " max_pooling2d (MaxPooling2  (None, 13, 13, 28)        0         \n",
            " D)                                                              \n",
            "                                                                 \n",
            " flatten (Flatten)           (None, 4732)              0         \n",
            "                                                                 \n",
            " dense (Dense)               (None, 200)               946600    \n",
            "                                                                 \n",
            " dropout (Dropout)           (None, 200)               0         \n",
            "                                                                 \n",
            " dense_1 (Dense)             (None, 10)                2010      \n",
            "                                                                 \n",
            "=================================================================\n",
            "Total params: 948890 (3.62 MB)\n",
            "Trainable params: 948890 (3.62 MB)\n",
            "Non-trainable params: 0 (0.00 Byte)\n",
            "_________________________________________________________________\n"
          ]
        }
      ],
      "source": [
        "model =Sequential()\n",
        "model.add(Conv2D(28,kernel_size=(3,3), input_shape=input_shape))\n",
        "model.add(MaxPooling2D(pool_size=(2,2)))\n",
        "model.add(Flatten())\n",
        "model.add(Dense (200, activation = \"relu\"))\n",
        "model.add(Dropout (0.3))\n",
        "model.add(Dense(10, activation=  \"softmax\"))\n",
        "model.summary()"
      ]
    },
    {
      "cell_type": "code",
      "execution_count": 7,
      "id": "035f97e2",
      "metadata": {
        "colab": {
          "base_uri": "https://localhost:8080/"
        },
        "id": "035f97e2",
        "outputId": "6456dee6-7c04-44bc-d5e0-9c29e4947716"
      },
      "outputs": [
        {
          "output_type": "stream",
          "name": "stdout",
          "text": [
            "Epoch 1/2\n",
            "1875/1875 [==============================] - 51s 26ms/step - loss: 0.2119 - accuracy: 0.9357\n",
            "Epoch 2/2\n",
            "1875/1875 [==============================] - 50s 27ms/step - loss: 0.0889 - accuracy: 0.9722\n"
          ]
        },
        {
          "output_type": "execute_result",
          "data": {
            "text/plain": [
              "(None, <keras.src.callbacks.History at 0x78d38c108fa0>)"
            ]
          },
          "metadata": {},
          "execution_count": 7
        }
      ],
      "source": [
        "model.compile(optimizer='adam', loss='sparse_categorical_crossentropy',metrics=['accuracy']), model.fit(x_train, y_train, epochs= 2)"
      ]
    },
    {
      "cell_type": "code",
      "execution_count": 8,
      "id": "c7eb449e",
      "metadata": {
        "colab": {
          "base_uri": "https://localhost:8080/"
        },
        "id": "c7eb449e",
        "outputId": "a9014788-6378-4ff7-e781-0e22693b23c3"
      },
      "outputs": [
        {
          "output_type": "stream",
          "name": "stdout",
          "text": [
            "313/313 [==============================] - 3s 7ms/step - loss: 0.0636 - accuracy: 0.9801\n",
            "Loss=0.064\n",
            "Accuracy=0.980\n"
          ]
        }
      ],
      "source": [
        "test_loss,test_acc = model.evaluate(x_test, y_test)\n",
        "print(\"Loss=%.3f\" %test_loss)\n",
        "print(\"Accuracy=%.3f\" %test_acc)\n"
      ]
    },
    {
      "cell_type": "code",
      "execution_count": 9,
      "id": "cabc7af2",
      "metadata": {
        "colab": {
          "base_uri": "https://localhost:8080/",
          "height": 430
        },
        "id": "cabc7af2",
        "outputId": "eaebc35f-297a-4d77-ecac-54d3fca7faa8"
      },
      "outputs": [
        {
          "output_type": "display_data",
          "data": {
            "text/plain": [
              "<Figure size 640x480 with 1 Axes>"
            ],
            "image/png": "[encoded data removed]"
          },
          "metadata": {}
        }
      ],
      "source": [
        "image = x_train[4]\n",
        "plt.imshow(np.squeeze(image), cmap='gray')\n",
        "plt.show()"
      ]
    },
    {
      "cell_type": "code",
      "execution_count": null,
      "id": "a5f29aab",
      "metadata": {
        "id": "a5f29aab"
      },
      "outputs": [],
      "source": []
    }
  ],
  "metadata": {
    "kernelspec": {
      "display_name": "Python 3 (ipykernel)",
      "language": "python",
      "name": "python3"
    },
    "language_info": {
      "codemirror_mode": {
        "name": "ipython",
        "version": 3
      },
      "file_extension": ".py",
      "mimetype": "text/x-python",
      "name": "python",
      "nbconvert_exporter": "python",
      "pygments_lexer": "ipython3",
      "version": "3.11.5"
    },
    "colab": {
      "provenance": []
    }
  },
  "nbformat": 4,
  "nbformat_minor": 5
}